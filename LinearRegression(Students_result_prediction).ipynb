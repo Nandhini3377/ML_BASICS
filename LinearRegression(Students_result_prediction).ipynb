{
  "nbformat": 4,
  "nbformat_minor": 0,
  "metadata": {
    "colab": {
      "provenance": [],
      "authorship_tag": "ABX9TyOfhLYYHkclOS1qRbqXlycd",
      "include_colab_link": true
    },
    "kernelspec": {
      "name": "python3",
      "display_name": "Python 3"
    },
    "language_info": {
      "name": "python"
    }
  },
  "cells": [
    {
      "cell_type": "markdown",
      "metadata": {
        "id": "view-in-github",
        "colab_type": "text"
      },
      "source": [
        "<a href=\"https://colab.research.google.com/github/Nandhini3377/ML_BASICS/blob/main/LinearRegression(Students_result_prediction).ipynb\" target=\"_parent\"><img src=\"https://colab.research.google.com/assets/colab-badge.svg\" alt=\"Open In Colab\"/></a>"
      ]
    },
    {
      "cell_type": "code",
      "execution_count": 2,
      "metadata": {
        "id": "gdnJs9k5QW6E"
      },
      "outputs": [],
      "source": [
        "import numpy as np\n",
        "from sklearn.linear_model import LogisticRegression\n",
        "from sklearn.model_selection import train_test_split\n",
        "from sklearn.preprocessing import StandardScaler\n",
        "from sklearn.metrics import accuracy_score, classification_report"
      ]
    },
    {
      "cell_type": "code",
      "source": [
        "# Sample data\n",
        "study_hours = np.array([2, 3, 4, 5, 4, 6, 7, 8, 9, 10, 1, 2, 3, 4, 5])\n",
        "prev_scores = np.array([65, 70, 75, 80, 85, 85, 90, 92, 95, 98, 60, 65, 70, 75, 80])"
      ],
      "metadata": {
        "id": "dpmmoXmBSVnS"
      },
      "execution_count": 3,
      "outputs": []
    },
    {
      "cell_type": "code",
      "source": [
        "passed = np.array([0, 0, 0, 1, 1, 1, 1, 1, 1, 1, 0, 0, 0, 0, 1])"
      ],
      "metadata": {
        "id": "Aum1O-zRSdZZ"
      },
      "execution_count": 4,
      "outputs": []
    },
    {
      "cell_type": "code",
      "source": [
        "# Combine features\n",
        "X = np.column_stack((study_hours, prev_scores))\n",
        "print(X)\n",
        "y = passed"
      ],
      "metadata": {
        "colab": {
          "base_uri": "https://localhost:8080/"
        },
        "id": "UOCyugrxSh9e",
        "outputId": "a711c31e-b8ba-4ae4-c275-eb8b5bf33991"
      },
      "execution_count": 5,
      "outputs": [
        {
          "output_type": "stream",
          "name": "stdout",
          "text": [
            "[[ 2 65]\n",
            " [ 3 70]\n",
            " [ 4 75]\n",
            " [ 5 80]\n",
            " [ 4 85]\n",
            " [ 6 85]\n",
            " [ 7 90]\n",
            " [ 8 92]\n",
            " [ 9 95]\n",
            " [10 98]\n",
            " [ 1 60]\n",
            " [ 2 65]\n",
            " [ 3 70]\n",
            " [ 4 75]\n",
            " [ 5 80]]\n"
          ]
        }
      ]
    },
    {
      "cell_type": "code",
      "source": [
        "# Split the data into training and testing sets\n",
        "X_train, X_test, y_train, y_test = train_test_split(X, y, test_size=0.3, random_state=42)"
      ],
      "metadata": {
        "id": "qse5V7DFnt_y"
      },
      "execution_count": 25,
      "outputs": []
    },
    {
      "cell_type": "code",
      "source": [
        "# Scale the features\n",
        "scaler = StandardScaler()\n",
        "X_train_scaled = scaler.fit_transform(X_train)\n",
        "X_test_scaled = scaler.transform(X_test)"
      ],
      "metadata": {
        "id": "_khFd_BATSTN"
      },
      "execution_count": 26,
      "outputs": []
    },
    {
      "cell_type": "code",
      "source": [
        "# Create and train the model\n",
        "model = LogisticRegression()\n",
        "model.fit(X_train_scaled, y_train)\n",
        "\n",
        "# Make predictions on test set\n",
        "y_pred = model.predict(X_test_scaled)\n",
        "print(f\"Accuracy Score: {accuracy_score(y_test, y_pred):.2%}\")"
      ],
      "metadata": {
        "colab": {
          "base_uri": "https://localhost:8080/"
        },
        "id": "LvxJQ9WrTWwa",
        "outputId": "bc68d344-2cf1-4eb3-e3d9-afa4ae5a9899"
      },
      "execution_count": 27,
      "outputs": [
        {
          "output_type": "stream",
          "name": "stdout",
          "text": [
            "Accuracy Score: 100.00%\n"
          ]
        }
      ]
    },
    {
      "cell_type": "code",
      "source": [
        "\n",
        "def predict_pass_probability():\n",
        "    print(\"\\nStudent Pass/Fail Predictor\")\n",
        "    print(\"---------------------------\")\n",
        "\n",
        "    try:\n",
        "        # Get user input\n",
        "        hours = float(input(\"\\nEnter hours studied: \"))\n",
        "        score = float(input(\"Enter previous test score (0-100): \"))\n",
        "\n",
        "        # Validate input\n",
        "        if hours < 0 or score < 0 or score > 100:\n",
        "            print(\"Please enter valid values (hours > 0, score between 0-100)\")\n",
        "            return\n",
        "\n",
        "        # Scale the input using the same scaler\n",
        "        user_input = np.array([[hours, score]])\n",
        "        user_input_scaled = scaler.transform(user_input)\n",
        "\n",
        "        # Make prediction\n",
        "\n",
        "        prediction = model.predict(user_input_scaled)[0]\n",
        "\n",
        "        print(\"\\nResults:\")\n",
        "        print(f\"Probability of passing: {prediction}\")\n",
        "        print(f\"Prediction: {'Pass' if prediction == 1 else 'Fail'}\")\n",
        "        print()\n",
        "\n",
        "        # Additional insights\n",
        "        print(\"\\nInsights:\")\n",
        "        if hours < 4:\n",
        "            print(\"- Consider increasing study hours for better chances\")\n",
        "        if score < 75:\n",
        "            print(\"- Previous test score indicates room for improvement\")\n",
        "        if score > 80:\n",
        "            print(\"- Good Score\")\n",
        "\n",
        "    except ValueError:\n",
        "        print(\"Please enter valid numerical values\")"
      ],
      "metadata": {
        "id": "I_SGM3WdTZ9x"
      },
      "execution_count": 33,
      "outputs": []
    },
    {
      "cell_type": "code",
      "source": [
        "predict_pass_probability()"
      ],
      "metadata": {
        "colab": {
          "base_uri": "https://localhost:8080/"
        },
        "id": "RjX9RPVnVeZd",
        "outputId": "d911d1cb-b4f5-48db-81a7-a390b7272f66"
      },
      "execution_count": 36,
      "outputs": [
        {
          "output_type": "stream",
          "name": "stdout",
          "text": [
            "\n",
            "Student Pass/Fail Predictor\n",
            "---------------------------\n",
            "\n",
            "Enter hours studied: 9\n",
            "Enter previous test score (0-100): 90\n",
            "\n",
            "Results:\n",
            "Probability of passing: 1\n",
            "Prediction: Pass\n",
            "\n",
            "\n",
            "Insights:\n",
            "- Good Score\n"
          ]
        }
      ]
    }
  ]
}